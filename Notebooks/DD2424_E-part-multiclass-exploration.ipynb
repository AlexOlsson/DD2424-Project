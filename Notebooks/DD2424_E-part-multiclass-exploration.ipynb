{
  "cells": [
    {
      "cell_type": "markdown",
      "metadata": {
        "id": "3jeifvMoObQC"
      },
      "source": [
        "Install requirements"
      ]
    },
    {
      "cell_type": "code",
      "execution_count": null,
      "metadata": {
        "id": "g-OR6-johB6i"
      },
      "outputs": [],
      "source": [
        "# Check version of packages\n",
        "import torch\n",
        "print(torch)\n",
        "\n",
        "import torchvision\n",
        "print(torchvision)"
      ]
    },
    {
      "cell_type": "code",
      "execution_count": null,
      "metadata": {
        "id": "X13Xl_SLhfoq"
      },
      "outputs": [],
      "source": [
        "from __future__ import print_function\n",
        "from __future__ import division\n",
        "import torch\n",
        "import torch.nn as nn\n",
        "import torch.optim as optim\n",
        "import numpy as np\n",
        "import torchvision\n",
        "from torchvision import datasets, models, transforms\n",
        "import matplotlib.pyplot as plt\n",
        "import time\n",
        "import os\n",
        "import copy\n",
        "from torch.optim import lr_scheduler\n",
        "print(\"PyTorch Version: \",torch.__version__)\n",
        "print(\"Torchvision Version: \",torchvision.__version__)"
      ]
    },
    {
      "cell_type": "markdown",
      "metadata": {
        "id": "egqoLkXXOfDz"
      },
      "source": [
        "Check Colab GPU and CPU Setup"
      ]
    },
    {
      "cell_type": "code",
      "execution_count": null,
      "metadata": {
        "id": "dokutT2vN9VA"
      },
      "outputs": [],
      "source": [
        "# Check GPU info\n",
        "gpu_info = !nvidia-smi\n",
        "gpu_info = '\\n'.join(gpu_info)\n",
        "if gpu_info.find('failed') >= 0:\n",
        "  print('Not connected to a GPU')\n",
        "else:\n",
        "  print(gpu_info)"
      ]
    },
    {
      "cell_type": "code",
      "execution_count": null,
      "metadata": {
        "id": "cl6KnThxOMDp"
      },
      "outputs": [],
      "source": [
        "# Check CPU info\n",
        "!lscpu |grep 'Model name'"
      ]
    },
    {
      "cell_type": "markdown",
      "metadata": {
        "id": "wBbmMWruZkkw"
      },
      "source": [
        "## Setup"
      ]
    },
    {
      "cell_type": "code",
      "execution_count": null,
      "metadata": {
        "id": "JOgPs_RObYX4"
      },
      "outputs": [],
      "source": [
        "%%capture\n",
        "if not os.path.exists(\"/content/images.tar.gz\"):\n",
        "  # Download dataset\n",
        "  !wget https://thor.robots.ox.ac.uk/~vgg/data/pets/images.tar.gz\n",
        "\n",
        "  # Download truth label\n",
        "  !wget https://thor.robots.ox.ac.uk/~vgg/data/pets/annotations.tar.gz\n",
        "  # Unpack the dataset and ground truth\n",
        "  filename_images = \"/content/images.tar.gz\"\n",
        "  !tar -zxvf {filename_images}\n",
        "\n",
        "  filename_annotations = \"/content/annotations.tar.gz\"\n",
        "  !tar -zxvf {filename_annotations}"
      ]
    },
    {
      "cell_type": "markdown",
      "metadata": {
        "id": "Ge-66OXBwdsg"
      },
      "source": [
        "## CATEGORIZE DATA AFTER ANIMAL BREED (37 IN TOTAL)"
      ]
    },
    {
      "cell_type": "code",
      "execution_count": null,
      "metadata": {
        "id": "QMyrI7FIwhVW"
      },
      "outputs": [],
      "source": [
        "import os\n",
        "import shutil\n",
        "from collections import defaultdict\n",
        "import random\n",
        "SEED_FOR_DATA_SPLIT = 13948571\n",
        "TRAINING_SPLIT = 0.7\n",
        "VAL_SPLIT = 0.2\n",
        "TEST_SPLIT = 0.1\n",
        "\n",
        "try:\n",
        "  # 37 classes\n",
        "  annotations_file = \"/content/annotations/list.txt\"\n",
        "  images_base_path = \"images/\"\n",
        "  classes = defaultdict(list)\n",
        "  with open(annotations_file) as f:\n",
        "      for line in f:\n",
        "          if line.startswith(\"#\"):\n",
        "              continue\n",
        "          name, class_id, species, _ = line.strip().split(\" \")\n",
        "          classes[int(class_id)].append(name + \".jpg\")\n",
        "\n",
        "  for class_id, files in classes.items():\n",
        "      os.makedirs(f\"train/{str(class_id)}/\", exist_ok=True)\n",
        "      os.makedirs(f\"val/{str(class_id)}/\", exist_ok=True)\n",
        "      os.makedirs(f\"test/{str(class_id)}/\", exist_ok=True)\n",
        "      \n",
        "      random.seed(SEED_FOR_DATA_SPLIT)\n",
        "      random.shuffle(files)\n",
        "      number_of_files = len(files)\n",
        "      for i in range(number_of_files):\n",
        "          if i / number_of_files <= TRAINING_SPLIT:\n",
        "              shutil.move(os.path.join(images_base_path, files[i]), f\"train/{str(class_id)}/{files[i]}\")\n",
        "          elif i / number_of_files <= TRAINING_SPLIT + VAL_SPLIT:\n",
        "              shutil.move(os.path.join(images_base_path, files[i]), f\"val/{str(class_id)}/{files[i]}\")\n",
        "          else:\n",
        "              shutil.move(os.path.join(images_base_path, files[i]), f\"test/{str(class_id)}/{files[i]}\")\n",
        "except:\n",
        "  print(\"Error in moving files occurred. They have probably already been moved\")"
      ]
    },
    {
      "cell_type": "code",
      "execution_count": null,
      "metadata": {
        "id": "-T_bontbzAFY"
      },
      "outputs": [],
      "source": [
        "print(len(os.listdir(\"/content/train/11\")))\n",
        "print(len(os.listdir(\"/content/val/11\")))\n",
        "print(len(os.listdir(\"/content/test/11\")))"
      ]
    },
    {
      "cell_type": "markdown",
      "metadata": {
        "id": "nJoDoM_Tph6p"
      },
      "source": [
        "Download model"
      ]
    },
    {
      "cell_type": "markdown",
      "metadata": {
        "id": "Sx2aEPMod9w8"
      },
      "source": [
        "### Finetune resnet-18"
      ]
    },
    {
      "cell_type": "code",
      "execution_count": null,
      "metadata": {
        "id": "IqBOQj3Td8bn"
      },
      "outputs": [],
      "source": [
        "from __future__ import print_function\n",
        "from __future__ import division\n",
        "import torch\n",
        "import torch.nn as nn\n",
        "import torch.optim as optim\n",
        "import numpy as np\n",
        "import torchvision\n",
        "from torchvision import datasets, models, transforms\n",
        "from torch.utils.data import DataLoader\n",
        "import matplotlib.pyplot as plt\n",
        "import time\n",
        "import os\n",
        "import copy\n",
        "print(\"PyTorch Version: \",torch.__version__)\n",
        "print(\"Torchvision Version: \",torchvision.__version__)"
      ]
    },
    {
      "cell_type": "code",
      "execution_count": null,
      "metadata": {
        "id": "jluiZXureM8G"
      },
      "outputs": [],
      "source": [
        "import torchvision; print (torchvision)"
      ]
    },
    {
      "cell_type": "code",
      "execution_count": null,
      "metadata": {
        "id": "NHmK_R_be6fl"
      },
      "outputs": [],
      "source": [
        "!python --version"
      ]
    },
    {
      "cell_type": "code",
      "execution_count": null,
      "metadata": {
        "id": "lfyORVvyecRJ"
      },
      "outputs": [],
      "source": [
        "# Top level data directory. Here we assume the format of the directory conforms\n",
        "#   to the ImageFolder structure\n",
        "data_dir = \"/content/\"\n",
        "device = torch.device(\"cuda:0\" if torch.cuda.is_available() else \"cpu\")"
      ]
    },
    {
      "cell_type": "markdown",
      "metadata": {
        "id": "oZa24RqahA7t"
      },
      "source": [
        "Helper functions"
      ]
    },
    {
      "cell_type": "code",
      "execution_count": null,
      "metadata": {},
      "outputs": [],
      "source": [
        "def test_acc(model, dataloader_dict):\n",
        "  model.eval()\n",
        "  running_corrects = 0\n",
        "  for i, (inputs, labels) in enumerate(dataloader_dict[\"test\"]):\n",
        "    inputs = inputs.to(device)\n",
        "    labels = labels.to(device)\n",
        "    outputs = model(inputs)\n",
        "    _, pred_for_labled_data = torch.max(outputs, 1)                    \n",
        "    running_corrects += torch.sum(pred_for_labled_data == labels.data)\n",
        "  test_acc = running_corrects.double() / len(dataloader_dict[\"test\"].dataset)\n",
        "  \n",
        "  return test_acc.item()"
      ]
    },
    {
      "cell_type": "code",
      "execution_count": null,
      "metadata": {
        "id": "rlPRZkECs1jo"
      },
      "outputs": [],
      "source": [
        "def load_resnet_with_unfrozen_layers(num_unfrozen_layers, unfreeze_bn, num_classes=37):\n",
        "  model_ft = models.resnet18(weights=torchvision.models.ResNet18_Weights.IMAGENET1K_V1)\n",
        "\n",
        "  for name, param in model_ft.named_parameters():\n",
        "    if not any(map(lambda layer_str: layer_str in name, [f\"layer{4-i}\" for i in range(num_unfrozen_layers)])) or (not unfreeze_bn and \"bn\" in name):\n",
        "      param.requires_grad = False\n",
        "\n",
        "  num_ftrs = model_ft.fc.in_features\n",
        "  model_ft.fc = nn.Linear(num_ftrs, num_classes)\n",
        "  device = torch.device(\"cuda:0\" if torch.cuda.is_available() else \"cpu\")\n",
        "  model_ft = model_ft.to(device)\n",
        "\n",
        "  return model_ft"
      ]
    },
    {
      "cell_type": "code",
      "execution_count": null,
      "metadata": {
        "id": "v6jZUE01g2id"
      },
      "outputs": [],
      "source": [
        "def train_model(model, dataloaders, criterion, optimizers, schedulers, num_epochs=25):\n",
        "    since = time.time()\n",
        "\n",
        "    val_acc_history = []\n",
        "\n",
        "    best_model_wts = copy.deepcopy(model.state_dict())\n",
        "    best_acc = 0.0\n",
        "\n",
        "    for epoch in range(num_epochs):\n",
        "        print('Epoch {}/{}'.format(epoch, num_epochs - 1))\n",
        "        print('-' * 10)\n",
        "        #loop = tqdm(loader) # Progress bar\n",
        "\n",
        "        # Each epoch has a training and validation phase\n",
        "        for phase in ['train', 'val']:\n",
        "            if phase == 'train':\n",
        "                model.train()  # Set model to training mode\n",
        "            else:\n",
        "                model.eval()   # Set model to evaluate mode\n",
        "\n",
        "            running_loss = 0.0\n",
        "            running_corrects = 0\n",
        "\n",
        "            # Iterate over data.\n",
        "            for inputs, labels in dataloaders[phase]:\n",
        "                inputs = inputs.to(device)\n",
        "                labels = labels.to(device)\n",
        "\n",
        "                # zero the parameter gradients\n",
        "                for optimizer in optimizers:\n",
        "                  optimizer.zero_grad()\n",
        "\n",
        "                # forward\n",
        "                # track history if only in train\n",
        "                with torch.set_grad_enabled(phase == 'train'):\n",
        "                    # Get model outputs and calculate loss\n",
        "                    outputs = model(inputs)\n",
        "                    loss = criterion(outputs, labels)\n",
        "                    _, preds = torch.max(outputs, 1)\n",
        "\n",
        "                    # backward + optimize only if in training phase\n",
        "                    if phase == 'train':\n",
        "                        loss.backward()\n",
        "                        for optimizer in optimizers:\n",
        "                          optimizer.step()\n",
        "                        for scheduler in schedulers:\n",
        "                          if type(scheduler) == lr_scheduler.OneCycleLR:\n",
        "                            scheduler.step()\n",
        "\n",
        "                # statistics\n",
        "                running_loss += loss.item() * inputs.size(0)\n",
        "                running_corrects += torch.sum(preds == labels.data)\n",
        "\n",
        "            epoch_loss = running_loss / len(dataloaders[phase].dataset)\n",
        "            epoch_acc = running_corrects.double() / len(dataloaders[phase].dataset)\n",
        "\n",
        "            print('{} Loss: {:.4f} Acc: {:.4f}'.format(phase, epoch_loss, epoch_acc))\n",
        "\n",
        "            # deep copy the model\n",
        "            if phase == 'val' and epoch_acc > best_acc:\n",
        "                best_acc = epoch_acc\n",
        "                best_model_wts = copy.deepcopy(model.state_dict())\n",
        "            if phase == 'val':\n",
        "                val_acc_history.append(epoch_acc)\n",
        "            \n",
        "            if phase == 'train':\n",
        "              for scheduler in schedulers:\n",
        "                if scheduler is None or scheduler == lr_scheduler.OneCycleLR:\n",
        "                  continue\n",
        "                if type(scheduler) == lr_scheduler.ReduceLROnPlateau:\n",
        "                  scheduler.step(epoch_acc)\n",
        "                else:\n",
        "                  scheduler.step()\n",
        "\n",
        "        print()\n",
        "\n",
        "    time_elapsed = time.time() - since\n",
        "    print('Training complete in {:.0f}m {:.0f}s'.format(time_elapsed // 60, time_elapsed % 60))\n",
        "    print('Best val Acc: {:4f}'.format(best_acc))\n",
        "\n",
        "    # load best model weights\n",
        "    model.load_state_dict(best_model_wts)\n",
        "    return model, val_acc_history"
      ]
    },
    {
      "cell_type": "code",
      "execution_count": 49,
      "metadata": {
        "id": "_2K5isq7D_qL"
      },
      "outputs": [],
      "source": [
        "from tqdm.notebook import tqdm\n",
        "def alpha_scheduler(current_epoch_num, T1, T2, max_alpha):\n",
        "  # PART 1: [ALPHA = 0]\n",
        "  if (current_epoch_num) < (T1): \n",
        "    return 0\n",
        "\n",
        "  # PART 2: epoch \"T1\" ---> epoch \"T2\"\n",
        "  elif (current_epoch_num) < (T2):\n",
        "    return (current_epoch_num-T1)/(T2-T1) * max_alpha\n",
        "  \n",
        "  # PART 3: [ALPHA = max_alpha]\n",
        "  return max_alpha\n",
        "\n",
        "\n",
        "def train_model_pseudo_labeling(model, dataloaders, criterion, optimizers, schedulers, percent_of_pseudolables=0.1, num_epochs=25):\n",
        "    since = time.time()\n",
        "\n",
        "    val_acc_history = []\n",
        "\n",
        "    best_model_wts = copy.deepcopy(model.state_dict())\n",
        "    best_acc = 0.0\n",
        "\n",
        "    for epoch in range(num_epochs):\n",
        "        print('Epoch {}/{}'.format(epoch+1, num_epochs))\n",
        "        print('-' * 20)\n",
        "\n",
        "        # Each epoch has a training and validation phase\n",
        "        for phase in ['train', 'val']:\n",
        "            if phase == 'train':\n",
        "                model.train()  # Set model to training mode\n",
        "                alpha = alpha_scheduler(epoch, T1=0, T2=3, max_alpha=1.0) # Update alpha\n",
        "                print('ALPHA =', alpha)\n",
        "            else:\n",
        "                model.eval()   # Set model to evaluate mode\n",
        "\n",
        "            running_loss = 0.0\n",
        "            running_corrects = 0\n",
        "\n",
        "            # Create tqdm progress bar object\n",
        "            print(f\"Processing {phase} data\")\n",
        "            progress_bar = tqdm(dataloaders[phase])\n",
        "\n",
        "            # Iterate over data.\n",
        "            for i, (inputs, labels) in enumerate(dataloaders[phase]):\n",
        "                inputs = inputs.to(device)\n",
        "                labels = labels.to(device)\n",
        "\n",
        "                if phase == 'train':\n",
        "                  batch_size = inputs.shape[0]\n",
        "                  supervised_size = round(batch_size * (1 - percent_of_pseudolables))\n",
        "                  (data, unlabled_data)  = torch.split(inputs, [supervised_size, batch_size - supervised_size], dim=0)\n",
        "                  (supervised_labels, _) = torch.split(labels, [supervised_size, batch_size - supervised_size], dim=0)\n",
        "\n",
        "                # zero the parameter gradients\n",
        "                for optimizer in optimizers:\n",
        "                  optimizer.zero_grad()\n",
        "\n",
        "                # forward\n",
        "                # track history if only in train\n",
        "                with torch.set_grad_enabled(phase == 'train'):\n",
        "                    # Get model outputs and calculate loss\n",
        "                    if phase == 'train':\n",
        "                      # supervised forward pass\n",
        "                      supervised_forward_pass_outputs = model(data)\n",
        "                      _, pred_for_labled_data = torch.max(supervised_forward_pass_outputs, 1)\n",
        "                      supervised_loss = criterion(supervised_forward_pass_outputs, supervised_labels)\n",
        "                      if supervised_loss.isnan().any():\n",
        "                        supervised_loss = 0\n",
        "                      # pseudo labeled forward pass\n",
        "                      pseudo_label_forward_pass_outputs = model(unlabled_data)\n",
        "                      _, pseudo_labels = torch.max(pseudo_label_forward_pass_outputs, dim=1)\n",
        "                      pseudo_label_loss = criterion(pseudo_label_forward_pass_outputs, pseudo_labels)\n",
        "                      if pseudo_label_loss.isnan().any():\n",
        "                        pseudo_label_loss = 0\n",
        "\n",
        "                      # combined loss\n",
        "                      loss = supervised_loss + alpha * pseudo_label_loss\n",
        "\n",
        "                      # backward + optimize only if in training phase\n",
        "                      loss.backward()\n",
        "                      for optimizer in optimizers:\n",
        "                        optimizer.step()\n",
        "                      for scheduler in schedulers:\n",
        "                        if type(scheduler) == lr_scheduler.OneCycleLR:\n",
        "                          scheduler.step()\n",
        "                      labels = supervised_labels # Due to calc. of running_corrects\n",
        "                    else:\n",
        "                      supervised_forward_pass_outputs = model(inputs)\n",
        "                      _, pred_for_labled_data = torch.max(supervised_forward_pass_outputs, 1)\n",
        "                      loss = criterion(supervised_forward_pass_outputs, labels)\n",
        "\n",
        "                # statistics\n",
        "                running_loss += loss.item() * inputs.size(0)\n",
        "                running_corrects += torch.sum(pred_for_labled_data == labels.data)\n",
        "\n",
        "                # Update progress bar\n",
        "                progress_bar.update(1)\n",
        "                if phase == 'train':\n",
        "                  progress_bar.set_description(f\"Epoch [{epoch+1}/{num_epochs}]\")\n",
        "                  progress_bar.set_postfix(loss=torch.rand(1).item(), acc=torch.rand(1).item())\n",
        "\n",
        "            epoch_loss = running_loss / len(dataloaders[phase].dataset)\n",
        "            epoch_acc = running_corrects.double() / len(dataloaders[phase].dataset)\n",
        "\n",
        "            print('{} Loss: {:.4f} Acc: {:.4f}'.format(phase, epoch_loss, epoch_acc))\n",
        "\n",
        "            # deep copy the model\n",
        "            if phase == 'val' and epoch_acc > best_acc:\n",
        "                best_acc = epoch_acc\n",
        "                best_model_wts = copy.deepcopy(model.state_dict())\n",
        "            if phase == 'val':\n",
        "                val_acc_history.append(epoch_acc)\n",
        "            \n",
        "            if phase == 'train':\n",
        "              for scheduler in schedulers:\n",
        "                if scheduler is None or scheduler == lr_scheduler.OneCycleLR:\n",
        "                  continue\n",
        "                if type(scheduler) == lr_scheduler.ReduceLROnPlateau:\n",
        "                  scheduler.step(epoch_acc)\n",
        "                else:\n",
        "                  scheduler.step()\n",
        "\n",
        "        print()\n",
        "\n",
        "    time_elapsed = time.time() - since\n",
        "    print('Training complete in {:.0f}m {:.0f}s'.format(time_elapsed // 60, time_elapsed % 60))\n",
        "    print('Best val Acc: {:4f}'.format(best_acc))\n",
        "\n",
        "    # load best model weights\n",
        "    model.load_state_dict(best_model_wts)\n",
        "    return model, val_acc_history"
      ]
    },
    {
      "cell_type": "code",
      "execution_count": null,
      "metadata": {
        "id": "rRB1VsNt54Vg"
      },
      "outputs": [],
      "source": [
        "# Batch size for training (change depending on how much memory you have)\n",
        "batch_size = 9 #Experiement around\n",
        "\n",
        "# Number of epochs to train for\n",
        "num_epochs = 15\n"
      ]
    },
    {
      "cell_type": "markdown",
      "metadata": {
        "id": "AcaIAGdqk5oB"
      },
      "source": [
        "Load data"
      ]
    },
    {
      "cell_type": "code",
      "execution_count": null,
      "metadata": {
        "id": "k4Buzt1Zk6dF"
      },
      "outputs": [],
      "source": [
        "def create_dataloader(batch_size):\n",
        "# Data augmentation and normalization for training\n",
        "# Just normalization for validation\n",
        "  input_size = 224\n",
        "  data_transforms = {\n",
        "      'train': transforms.Compose([\n",
        "          transforms.RandomResizedCrop(input_size,scale=(0.9,1.0)),\n",
        "          transforms.RandomHorizontalFlip(),\n",
        "          transforms.ToTensor(),\n",
        "          transforms.Normalize([0.485, 0.456, 0.406], [0.229, 0.224, 0.225])\n",
        "      ]),\n",
        "      'val': transforms.Compose([\n",
        "          transforms.Resize(input_size),\n",
        "          transforms.CenterCrop(input_size),\n",
        "          transforms.ToTensor(),\n",
        "          transforms.Normalize([0.485, 0.456, 0.406], [0.229, 0.224, 0.225])\n",
        "      ]),\n",
        "      'test': transforms.Compose([\n",
        "          transforms.Resize(input_size),\n",
        "          transforms.CenterCrop(input_size),\n",
        "          transforms.ToTensor(),\n",
        "          transforms.Normalize([0.485, 0.456, 0.406], [0.229, 0.224, 0.225])\n",
        "      ]),\n",
        "  }\n",
        "\n",
        "  print(\"Initializing Datasets and Dataloaders...\")\n",
        "\n",
        "  # Create training and validation datasets\n",
        "  image_datasets = {x: datasets.ImageFolder(os.path.join(data_dir, x), data_transforms[x]) for x in ['train', 'val', \"test\"]}\n",
        "\n",
        "  # Create training and validation dataloaders\n",
        "  dataloaders_dict = {x: torch.utils.data.DataLoader(image_datasets[x], batch_size=batch_size, shuffle=True, num_workers=2) for x in ['train', 'val', \"test\"]}\n",
        "\n",
        "  return dataloaders_dict"
      ]
    },
    {
      "cell_type": "markdown",
      "metadata": {
        "id": "4Cruuro4uJIo"
      },
      "source": [
        "Cell for experimentation"
      ]
    },
    {
      "cell_type": "code",
      "execution_count": null,
      "metadata": {
        "cellView": "form",
        "id": "JlkwRsbnFjFP"
      },
      "outputs": [],
      "source": [
        "#@title\n",
        "#model_ft = load_resnet_with_unfrozen_layers(1, True, num_classes=37)\n",
        "#for x,y in dataloaders_dict['train']:\n",
        "#  x = x.to(device)\n",
        "#  y = y.to(device)\n",
        "#  soft_out = nn.functional.softmax(model_ft(x), dim=1)\n",
        "#  print(soft_out)\n",
        "#  _, max_i = torch.max(soft_out, dim=1)\n",
        "#  print(max_i)\n",
        "#  print(x.shape, y.shape)\n",
        "#  print(y)\n",
        "#  #(set1, set2) = torch.split(y, [18, 2], dim=0)\n",
        "#  #print(set1.shape)\n",
        "#  #print(set2.shape)\n",
        "#  break"
      ]
    },
    {
      "cell_type": "markdown",
      "metadata": {
        "id": "W4qWxREKlPqR"
      },
      "source": [
        "Run Training and Validation Step\n"
      ]
    },
    {
      "cell_type": "code",
      "execution_count": null,
      "metadata": {
        "id": "tZH1uwnalThf"
      },
      "outputs": [],
      "source": [
        "model_ft = load_resnet_with_unfrozen_layers(1, True, num_classes=37)\n",
        "dataloaders_dict = create_dataloader(batch_size)\n",
        "\n",
        "# creates a dict that groups model params into a dict with lists.\n",
        "# all params for ex. layer4 can be accessed using layer_param_dict[\"layer4\"]\n",
        "\n",
        "layer_param_dict = defaultdict(list)\n",
        "for name,param in model_ft.named_parameters():\n",
        "  if param.requires_grad:\n",
        "    layer_param_dict[name.split(\".\")[0]].append(param)\n",
        "\n",
        "all_params = []\n",
        "for key, param_list in layer_param_dict.items():\n",
        "  all_params += param_list\n",
        "\n",
        "print(layer_param_dict.keys())\n",
        "optimizers = [\n",
        "    optim.Adam(layer_param_dict[\"fc\"], lr=0.001, weight_decay=1e-3),\n",
        "    optim.Adam(layer_param_dict[\"layer4\"], lr=0.001, weight_decay=1e-5),\n",
        "    #optim.Adam(layer_param_dict[\"layer3\"], lr=0.001),\n",
        "]\n",
        "schedulers = [\n",
        "    lr_scheduler.ReduceLROnPlateau(optimizers[0], patience=2),\n",
        "    lr_scheduler.LambdaLR(optimizers[1], lr_lambda=lambda epoch: 0.95 ** epoch),\n",
        "    #lr_scheduler.LambdaLR(optimizers[2], lr_lambda=lambda epoch: 0.95 ** epoch),\n",
        "]\n",
        "\n",
        "# Setup the loss fxn\n",
        "criterion = nn.CrossEntropyLoss()\n",
        "\n",
        "print(type(schedulers[0]) == lr_scheduler.ReduceLROnPlateau)\n",
        "\n",
        "\n",
        "# Train and evaluate\n",
        "model_ft, hist = train_model_pseudo_labeling(model_ft, dataloaders_dict, criterion, optimizers, schedulers, percent_of_pseudolables=0.1, num_epochs=num_epochs)\n",
        "#model_ft, hist = train_model(model_ft, dataloaders_dict, criterion, optimizers, schedulers, num_epochs=num_epochs)"
      ]
    },
    {
      "cell_type": "code",
      "execution_count": null,
      "metadata": {},
      "outputs": [],
      "source": [
        "# NOTE: run this line very sparinlgly\n",
        "#print(f\"Test acc: {test_acc(model_ft, dataloaders_dict)}\")"
      ]
    }
  ],
  "metadata": {
    "accelerator": "GPU",
    "colab": {
      "gpuType": "T4",
      "provenance": []
    },
    "gpuClass": "standard",
    "kernelspec": {
      "display_name": "Python 3",
      "name": "python3"
    },
    "language_info": {
      "name": "python"
    }
  },
  "nbformat": 4,
  "nbformat_minor": 0
}
